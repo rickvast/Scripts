{
  "nbformat": 4,
  "nbformat_minor": 0,
  "metadata": {
    "colab": {
      "provenance": []
    },
    "kernelspec": {
      "name": "python3",
      "display_name": "Python 3"
    },
    "language_info": {
      "name": "python"
    }
  },
  "cells": [
    {
      "cell_type": "markdown",
      "source": [
        "\n",
        "\n",
        "1.   Dos motos viajan a diferentes velocidades (**vel1** y **vel2**) y están distanciados por una distancia **dis**. La moto que se encuentra detrás lleva una velocidad mayor que la primera. Se pide realizar un script en python que solicite al usuario la distancia entre las motos en km y las velocidades de las mismas y con ello devolver en cuanto tiempo la moto 2 alcanzará a la moto 1."
      ],
      "metadata": {
        "id": "yU4DEf3HBMru"
      }
    },
    {
      "cell_type": "code",
      "source": [
        "def calcular_tiempo():\n",
        "        # Solicitar datos al usuario\n",
        "        distancia = float(input(\"Ingrese la distancia inicial entre las motos en km: \"))\n",
        "        vel1 = float(input(\"Ingrese la velocidad de la moto 1 en km/h: \"))\n",
        "        vel2 = float(input(\"Ingrese la velocidad de la moto 2 en km/h: \"))\n",
        "        # Calcular el tiempo en horas\n",
        "        tiempo = distancia / (vel2 - vel1)\n",
        "        print(f\"La moto 2 alcanzará a la moto 1 en {tiempo:.2f} horas.\")\n",
        "\n",
        "# Ejecutar la función\n",
        "calcular_tiempo()"
      ],
      "metadata": {
        "id": "nLCVu66ZDnpq",
        "colab": {
          "base_uri": "https://localhost:8080/"
        },
        "outputId": "bdba0d07-184a-4838-8c78-dfca68957661"
      },
      "execution_count": null,
      "outputs": [
        {
          "output_type": "stream",
          "name": "stdout",
          "text": [
            "Ingrese la distancia inicial entre las motos en km: 10\n",
            "Ingrese la velocidad de la moto 1 en km/h: 1\n",
            "Ingrese la velocidad de la moto 2 en km/h: 2\n",
            "La moto 2 alcanzará a la moto 1 en 10.00 horas.\n"
          ]
        }
      ]
    },
    {
      "cell_type": "markdown",
      "source": [
        "2. El tutor de 2º ASIR esta organizando un viaje a Granada, y requiere determinar cuánto debe cobrar a cada alumne y cuánto debe pagar a la agencia de viajes. La forma de cobrar es la siguiente: si son 100 alumnos o más, el costo por cada alumno es de 65 euros; de 50 a 99 alumnos, el costo es de 70 euros, de 30 a 49, de 95 euros, y si son menos de 30, el costo de la guagua es de 4000 euros, sin importar el número de alumnos. Realice un script que permita determinar el pago a la compañía de guaguas y lo que debe pagar cada alumno por el viaje."
      ],
      "metadata": {
        "id": "bTX1b7swDmVd"
      }
    },
    {
      "cell_type": "code",
      "source": [
        "def calcular_costo_viaje():\n",
        "    num_alumnos = int(input(\"Número de alumnos: \"))\n",
        "\n",
        "    if num_alumnos >= 100:\n",
        "        costo_por_alumno = 65\n",
        "    elif num_alumnos >= 50:\n",
        "        costo_por_alumno = 70\n",
        "    elif num_alumnos >= 30:\n",
        "        costo_por_alumno = 95\n",
        "    else:\n",
        "        print(f\"Pago total: 4000.00 euros\\nCosto por alumno: {4000 / num_alumnos:.2f} euros\")\n",
        "        return\n",
        "\n",
        "    costo_total = num_alumnos * costo_por_alumno\n",
        "    print(f\"Pago total: {costo_total:.2f} euros\\nCosto por alumno: {costo_por_alumno:.2f} euros\")\n",
        "\n",
        "calcular_costo_viaje()"
      ],
      "metadata": {
        "id": "1_orCltzEQhh",
        "colab": {
          "base_uri": "https://localhost:8080/"
        },
        "outputId": "21b5a958-9fd8-4e22-fb91-859c9e4abbbc"
      },
      "execution_count": null,
      "outputs": [
        {
          "name": "stdout",
          "output_type": "stream",
          "text": [
            "Número de alumnos: 40\n"
          ]
        }
      ]
    },
    {
      "cell_type": "markdown",
      "source": [
        "3. Crea un script que permita adivinar un número. La aplicación genera un número aleatorio del 1 al 100. A continuación va pidiendo números y va respondiendo si el número a adivinar es mayor o menor que el introducido, además de los intentos que te quedan (tienes 10 intentos para acertarlo).  El programa termina cuando se acierta el número (además te dice en cuantos  intentos lo has acertado), si se llega al limite de intentos te muestra el  número que había generado."
      ],
      "metadata": {
        "id": "ksUYFjvcFhpq"
      }
    },
    {
      "cell_type": "code",
      "source": [
        "import random\n",
        "\n",
        "numero_secreto = random.randint(1, 100)\n",
        "intentos = 10\n",
        "\n",
        "# Pedimos al usuario y número y creamos las posibilidades\n",
        "print(\"Adivina el número entre 1 y 100. Tienes 10 intentos.\")\n",
        "\n",
        "while intentos > 0:\n",
        "    numero = int(input(\"Introduce un número: \"))\n",
        "\n",
        "    if numero == numero_secreto:\n",
        "        print(f\"¡Felicidades! Adivinaste el número en {10 - intentos + 1} intentos.\")\n",
        "        break\n",
        "    elif numero < numero_secreto:\n",
        "        print(\"El número secreto es mayor.\")\n",
        "    else:\n",
        "        print(\"El número secreto es menor.\")\n",
        "\n",
        "    intentos -= 1\n",
        "\n",
        "if intentos == 0:\n",
        "    print(f\"Te quedaste sin intentos. El número era {numero_secreto}.\")"
      ],
      "metadata": {
        "id": "ePA_F-ggERZq",
        "colab": {
          "base_uri": "https://localhost:8080/"
        },
        "outputId": "35a2c483-7a9c-48c7-e5c4-50969492d6f5"
      },
      "execution_count": null,
      "outputs": [
        {
          "output_type": "stream",
          "name": "stdout",
          "text": [
            "Adivina el número entre 1 y 100. Tienes 10 intentos.\n",
            "Introduce un número: 50\n",
            "El número secreto es mayor.\n",
            "Introduce un número: 75\n",
            "El número secreto es mayor.\n",
            "Introduce un número: 98\n",
            "El número secreto es mayor.\n",
            "Introduce un número: 99\n",
            "¡Felicidades! Adivinaste el número en 4 intentos.\n"
          ]
        }
      ]
    },
    {
      "cell_type": "markdown",
      "source": [
        "4. Realizar un script que pida una String por teclado que contenga espacios y devuelva el número de palabrás que contenga"
      ],
      "metadata": {
        "id": "a8VUj4CxH5Lh"
      }
    },
    {
      "cell_type": "code",
      "source": [
        "# Pedir una frase al usuario\n",
        "frase = input(\"Introduce una frase: \")\n",
        "\n",
        "# Dividir la frase en palabras usando split() y contar cuántas hay\n",
        "num_palabras = len(frase.split())\n",
        "\n",
        "# Mostrar el resultado\n",
        "print(f\"La frase contiene {num_palabras} palabras.\")"
      ],
      "metadata": {
        "id": "XjlclapwESaJ",
        "colab": {
          "base_uri": "https://localhost:8080/"
        },
        "outputId": "2e14eee8-c3b2-499e-fe78-a665304de404"
      },
      "execution_count": null,
      "outputs": [
        {
          "output_type": "stream",
          "name": "stdout",
          "text": [
            "Introduce una frase: yeray pon el examen fácil\n",
            "La frase contiene 5 palabras.\n"
          ]
        }
      ]
    },
    {
      "cell_type": "markdown",
      "source": [
        "5. Realiza un script que se le pasen 5 notas de un alumno por teclado (comprendidas entre 0 y 10). A continuación debe mostrar todas las notas, la nota media, la nota más alta que ha sacado y la menor.\n",
        "\n"
      ],
      "metadata": {
        "id": "hyvKdc75IXd5"
      }
    },
    {
      "cell_type": "code",
      "source": [
        "# Pedir 5 notas al usuario\n",
        "notas = [float(input(f\"Introduce la nota {i + 1} (0-10): \")) for i in range(5)]\n",
        "\n",
        "# Calcular la media, la nota más alta y la más baja\n",
        "nota_media = sum(notas) / len(notas)\n",
        "nota_maxima = max(notas)\n",
        "nota_minima = min(notas)\n",
        "\n",
        "# Mostrar resultados\n",
        "print(\"\\nNotas ingresadas:\", notas)\n",
        "print(f\"Nota media: {nota_media:.2f}\")\n",
        "print(f\"Nota más alta: {nota_maxima}\")\n",
        "print(f\"Nota más baja: {nota_minima}\")"
      ],
      "metadata": {
        "id": "nOgqvWORETFB",
        "colab": {
          "base_uri": "https://localhost:8080/"
        },
        "outputId": "8f111d40-aa24-4948-a713-96757cadee96"
      },
      "execution_count": null,
      "outputs": [
        {
          "output_type": "stream",
          "name": "stdout",
          "text": [
            "Introduce la nota 1 (0-10): 1\n",
            "Introduce la nota 2 (0-10): 1\n",
            "Introduce la nota 3 (0-10): 1\n",
            "Introduce la nota 4 (0-10): 1\n",
            "Introduce la nota 5 (0-10): 1\n",
            "\n",
            "Notas ingresadas: [1.0, 1.0, 1.0, 1.0, 1.0]\n",
            "Nota media: 1.00\n",
            "Nota más alta: 1.0\n",
            "Nota más baja: 1.0\n"
          ]
        }
      ]
    },
    {
      "cell_type": "markdown",
      "source": [
        "6. Realizar un script que cree una una tabla bidimensional de 5x5 y nombre 'diagonal'. La Componentes de la tabla en su diagonales deben de ser 1 y el resto 0. Se ha de mostrar el contenido de la tabla por pantalla."
      ],
      "metadata": {
        "id": "ZQxqS603I8S1"
      }
    },
    {
      "cell_type": "code",
      "source": [
        "# Crear una tabla 5x5 con 0s\n",
        "diagonal = [[0 for _ in range(5)] for _ in range(5)]\n",
        "\n",
        "# Asignar 1 a las diagonales\n",
        "for i in range(5):\n",
        "    diagonal[i][i] = 1  # Diagonal principal\n",
        "    diagonal[i][4 - i] = 1  # Diagonal secundaria\n",
        "\n",
        "# Mostrar la tabla\n",
        "for fila in diagonal:\n",
        "    print(\" \".join(map(str, fila)))"
      ],
      "metadata": {
        "id": "b1tXQaS0ETrp",
        "colab": {
          "base_uri": "https://localhost:8080/"
        },
        "outputId": "67465f7e-a3c9-4558-976d-f9db2a94daf6"
      },
      "execution_count": null,
      "outputs": [
        {
          "output_type": "stream",
          "name": "stdout",
          "text": [
            "1 0 0 0 1\n",
            "0 1 0 1 0\n",
            "0 0 1 0 0\n",
            "0 1 0 1 0\n",
            "1 0 0 0 1\n"
          ]
        }
      ]
    },
    {
      "cell_type": "markdown",
      "source": [
        "7. Crea un script que pida un número y cree un diccionario cuyas claves sean desde el número 1 hasta el número indicado, y los valores sean los cuadrados de las claves.\n",
        "\n"
      ],
      "metadata": {
        "id": "Ah0c0PB1Nw_d"
      }
    },
    {
      "cell_type": "code",
      "source": [
        "# Pedir un número al usuario\n",
        "num = int(input(\"Introduce un número: \"))\n",
        "\n",
        "# Crear el diccionario con claves del 1 al num y valores como su cuadrado\n",
        "diccionario = {i: i**2 for i in range(1, num + 1)}\n",
        "\n",
        "# Mostrar el diccionario\n",
        "print(diccionario)"
      ],
      "metadata": {
        "id": "OWcoMYqYEUez",
        "colab": {
          "base_uri": "https://localhost:8080/"
        },
        "outputId": "db8eae08-9c45-44bc-f53f-c72fae0c4e3a"
      },
      "execution_count": null,
      "outputs": [
        {
          "output_type": "stream",
          "name": "stdout",
          "text": [
            "Introduce un número: 15\n",
            "{1: 1, 2: 4, 3: 9, 4: 16, 5: 25, 6: 36, 7: 49, 8: 64, 9: 81, 10: 100, 11: 121, 12: 144, 13: 169, 14: 196, 15: 225}\n"
          ]
        }
      ]
    },
    {
      "cell_type": "markdown",
      "source": [
        "8. Crea un script de una agenda en la que se guardan nombres y números de teléfono. En la agenda existirá un menú con las siguientes opciones:\n",
        " * **Añadir/modificar**: Nos pide un nombre. Si el nombre se encuentra en la agenda, debe mostrar el teléfono y, opcionalmente, permitir modificarlo si no es correcto. Si el nombre no se encuentra, debe permitir ingresar el teléfono correspondiente.\n",
        " * **Buscar**: Nos pide una cadena de caracteres, y nos muestras todos los contactos cuyos nombres comiencen por dicha cadena.\n",
        " * **Borrar**: Nos pide un nombre y si existe nos preguntará si queremos borrarlo de la agenda.\n",
        " * **Listar**: Nos muestra todos los contactos de la agenda.\n",
        "\n",
        "  Implementar el script con un diccionario."
      ],
      "metadata": {
        "id": "6vqpqY3DJ88o"
      }
    },
    {
      "cell_type": "code",
      "source": [
        "# Definimos la agenda como un diccionario vacío\n",
        "agenda = {}\n",
        "\n",
        "def mostrar_menu():\n",
        "    print(\"\\n--- Agenda Telefónica ---\")\n",
        "    print(\"1. Añadir/Modificar contacto\")\n",
        "    print(\"2. Buscar contacto\")\n",
        "    print(\"3. Borrar contacto\")\n",
        "    print(\"4. Listar contactos\")\n",
        "    print(\"5. Salir\")\n",
        "\n",
        "def añadir_modificar_contacto():\n",
        "    nombre = input(\"Introduce el nombre del contacto: \")\n",
        "    if nombre in agenda:\n",
        "        print(f\"El número actual de {nombre} es: {agenda[nombre]}\")\n",
        "        modificar = input(\"¿Deseas modificarlo? (s/n): \").lower()\n",
        "        if modificar == 's':\n",
        "            telefono = input(\"Introduce el nuevo número de teléfono: \")\n",
        "            agenda[nombre] = telefono\n",
        "            print(\"Contacto modificado correctamente.\")\n",
        "    else:\n",
        "        telefono = input(\"Introduce el número de teléfono: \")\n",
        "        agenda[nombre] = telefono\n",
        "        print(\"Contacto añadido correctamente.\")\n",
        "\n",
        "def buscar_contacto():\n",
        "    cadena = input(\"Introduce la cadena de búsqueda: \")\n",
        "    encontrados = {nombre: telefono for nombre, telefono in agenda.items() if nombre.startswith(cadena)}\n",
        "    if encontrados:\n",
        "        print(\"\\nContactos encontrados:\")\n",
        "        for nombre, telefono in encontrados.items():\n",
        "            print(f\"{nombre}: {telefono}\")\n",
        "    else:\n",
        "        print(\"No se encontraron contactos que coincidan con la búsqueda.\")\n",
        "\n",
        "def borrar_contacto():\n",
        "    nombre = input(\"Introduce el nombre del contacto a borrar: \")\n",
        "    if nombre in agenda:\n",
        "        confirmar = input(f\"¿Estás seguro de borrar a {nombre}? (s/n): \").lower()\n",
        "        if confirmar == 's':\n",
        "            del agenda[nombre]\n",
        "            print(\"Contacto borrado correctamente.\")\n",
        "    else:\n",
        "        print(\"El contacto no existe en la agenda.\")\n",
        "\n",
        "def listar_contactos():\n",
        "    if agenda:\n",
        "        print(\"\\nLista de contactos:\")\n",
        "        for nombre, telefono in agenda.items():\n",
        "            print(f\"{nombre}: {telefono}\")\n",
        "    else:\n",
        "        print(\"La agenda está vacía.\")\n",
        "\n",
        "def main():\n",
        "    while True:\n",
        "        mostrar_menu()\n",
        "        opcion = input(\"Selecciona una opción (1-5): \")\n",
        "\n",
        "        if opcion == '1':\n",
        "            añadir_modificar_contacto()\n",
        "        elif opcion == '2':\n",
        "            buscar_contacto()\n",
        "        elif opcion == '3':\n",
        "            borrar_contacto()\n",
        "        elif opcion == '4':\n",
        "            listar_contactos()\n",
        "        elif opcion == '5':\n",
        "            print(\"Saliendo de la agenda...\")\n",
        "            break\n",
        "        else:\n",
        "            print(\"Opción no válida. Inténtalo de nuevo.\")\n",
        "\n",
        "if __name__ == \"__main__\":\n",
        "    main()"
      ],
      "metadata": {
        "id": "GexEhTmSEVT4",
        "colab": {
          "base_uri": "https://localhost:8080/"
        },
        "outputId": "9770079c-6738-46ce-85c4-a557b19988bd"
      },
      "execution_count": null,
      "outputs": [
        {
          "output_type": "stream",
          "name": "stdout",
          "text": [
            "\n",
            "--- Agenda Telefónica ---\n",
            "1. Añadir/Modificar contacto\n",
            "2. Buscar contacto\n",
            "3. Borrar contacto\n",
            "4. Listar contactos\n",
            "5. Salir\n",
            "Selecciona una opción (1-5): 5\n",
            "Saliendo de la agenda...\n"
          ]
        }
      ]
    },
    {
      "cell_type": "markdown",
      "source": [
        "9. Crear un script que al introducir una fecha nos diga a que día juliano corresponde. El día juliano correspondiente a una fecha es un número entero que indica los días que han transcurrido desde el 1 de enero.Para ello debes de hacer las siguientes funciones:\n",
        " * **LeerFecha**: Lee por teclado el día, mes y el año.\n",
        " * **DiasDelMes**: Recibe un mes y un año y devuelve el número de días\n",
        " * **EsBisiesto**: Recibido un año nos dice si es bisiesto o no.\n",
        " * **Calcular_Dia_Juliano**: Recibe una fecha y nos devuelve el día juliano."
      ],
      "metadata": {
        "id": "-PHluINDPCH5"
      }
    },
    {
      "cell_type": "code",
      "source": [
        "\n",
        "def leer_fecha():\n",
        "    \"\"\"Lee el día, mes y año desde el teclado.\"\"\"\n",
        "    dia = int(input(\"Introduce el día: \"))\n",
        "    mes = int(input(\"Introduce el mes: \"))\n",
        "    año = int(input(\"Introduce el año: \"))\n",
        "    return dia, mes, año\n",
        "\n",
        "def dias_del_mes(mes, año):\n",
        "    \"\"\"Devuelve el número de días de un mes en un año dado.\"\"\"\n",
        "    if mes in [4, 6, 9, 11]:  # Abril, junio, septiembre, noviembre\n",
        "        return 30\n",
        "    elif mes == 2:  # Febrero\n",
        "        return 29 if es_bisiesto(año) else 28\n",
        "    else:  # Enero, marzo, mayo, julio, agosto, octubre, diciembre\n",
        "        return 31\n",
        "\n",
        "def es_bisiesto(año):\n",
        "    \"\"\"Determina si un año es bisiesto.\"\"\"\n",
        "    return (año % 4 == 0 and año % 100 != 0) or (año % 400 == 0)\n",
        "\n",
        "def calcular_dia_juliano(dia, mes, año):\n",
        "    \"\"\"Calcula el día juliano de una fecha dada.\"\"\"\n",
        "    dia_juliano = sum(dias_del_mes(m, año) for m in range(1, mes)) + dia\n",
        "    return dia_juliano\n",
        "\n",
        "# Programa principal\n",
        "dia, mes, año = leer_fecha()\n",
        "dia_juliano = calcular_dia_juliano(dia, mes, año)\n",
        "\n",
        "print(f\"El día juliano de la fecha {dia}/{mes}/{año} es: {dia_juliano}\")"
      ],
      "metadata": {
        "id": "EbNdAbeBEV5g",
        "colab": {
          "base_uri": "https://localhost:8080/"
        },
        "outputId": "10fae5ad-cb1a-4c1b-b837-6213c7446417"
      },
      "execution_count": null,
      "outputs": [
        {
          "output_type": "stream",
          "name": "stdout",
          "text": [
            "Introduce el día: 7\n",
            "Introduce el mes: 8\n",
            "Introduce el año: 2024\n",
            "El día juliano de la fecha 7/8/2024 es: 220\n"
          ]
        }
      ]
    },
    {
      "cell_type": "markdown",
      "source": [
        "\n",
        "10. Función CalcularMCD: Recibe dos números y devuelve el MCD utilizando el método de Euclides.\n",
        "El método de Euclides es el siguiente:\n",
        " * Se divide el número mayor entre el menor.\n",
        " * Si la división es exacta, el divisor es el MCD.\n",
        " * Si la división no es exacta, dividimos el divisor entre el resto obtenido y se continúa de esta forma hasta obtener una división exacta, siendo el último divisor el MCD.\n"
      ],
      "metadata": {
        "id": "xQCJ8l2QPU3m"
      }
    },
    {
      "cell_type": "code",
      "source": [
        "def CalcularMCD(a, b):\n",
        "    \"\"\"Calcula el MCD usando el método de Euclides.\"\"\"\n",
        "    while b != 0:\n",
        "        a, b = b, a % b\n",
        "    return a\n",
        "\n",
        "# Pedir dos números al usuario\n",
        "num1 = int(input(\"Introduce el primer número: \"))\n",
        "num2 = int(input(\"Introduce el segundo número: \"))\n",
        "\n",
        "# Calcular y mostrar el MCD\n",
        "print(f\"El MCD de {num1} y {num2} es: {CalcularMCD(num1, num2)}\")"
      ],
      "metadata": {
        "id": "KZWQBYhdEWow",
        "colab": {
          "base_uri": "https://localhost:8080/"
        },
        "outputId": "69fcdc02-3317-4be0-dfc2-b1bc7a57f735"
      },
      "execution_count": null,
      "outputs": [
        {
          "output_type": "stream",
          "name": "stdout",
          "text": [
            "Introduce el primer número: 20\n",
            "Introduce el segundo número: 30\n",
            "El MCD de 20 y 30 es: 10\n"
          ]
        }
      ]
    }
  ]
}